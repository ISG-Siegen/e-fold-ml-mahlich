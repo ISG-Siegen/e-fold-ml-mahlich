{
 "cells": [
  {
   "cell_type": "markdown",
   "id": "b428b503-d85b-4d39-8cf7-bfbbeff63993",
   "metadata": {},
   "source": [
    "### Which ML-algorithms are used?\n",
    "### Regression Problem\n",
    "Lineare Regression  <br>\n",
    "DecisionTreeRegressor <br>\n",
    "Support Vector Regression (SVR)<br>\n",
    "Random Forest (RandomForestRegressor)<br>\n",
    "KNeighborsClassifier (Knn)<br>\n",
    "GradientBoostingRegressor"
   ]
  },
  {
   "cell_type": "code",
   "execution_count": 1,
   "id": "54be0bdf-dec9-4737-b797-ca06b40991dd",
   "metadata": {},
   "outputs": [],
   "source": [
    "from sklearn.model_selection import KFold\n",
    "from sklearn.model_selection import StratifiedKFold\n",
    "from sklearn.model_selection import cross_val_score\n",
    "import numpy as np\n",
    "import pandas as pd"
   ]
  },
  {
   "cell_type": "markdown",
   "id": "c55a08ea-bfa1-4a4d-a932-1d51510f618d",
   "metadata": {},
   "source": [
    "### Dataset\n",
    "california_housing from sklearn <br>\n",
    "https://scikit-learn.org/stable/modules/generated/sklearn.datasets.fetch_california_housing.html"
   ]
  },
  {
   "cell_type": "code",
   "execution_count": 2,
   "id": "bb19f59e-83f6-4c8f-9a2e-5b0adcb6abc8",
   "metadata": {},
   "outputs": [],
   "source": [
    "from sklearn.datasets import fetch_california_housing #(20000 Datensätze)"
   ]
  },
  {
   "cell_type": "code",
   "execution_count": 3,
   "id": "b1b1b152-49ca-4791-957e-f2b9a60d8552",
   "metadata": {},
   "outputs": [],
   "source": [
    "california  = fetch_california_housing()\n",
    "X = california.data\n",
    "y = california.target"
   ]
  },
  {
   "cell_type": "code",
   "execution_count": 4,
   "id": "f201b7a7-a164-43b3-bc6b-312153049d6c",
   "metadata": {},
   "outputs": [],
   "source": [
    "k=10 #Number of Folds\n",
    "kf = KFold(n_splits=k, shuffle=True, random_state=42) \n",
    "#kf = StratifiedKFold(n_splits=k, shuffle=True, random_state=42)"
   ]
  },
  {
   "cell_type": "code",
   "execution_count": 5,
   "id": "c6a360aa-bd74-4f68-897a-c3ba8d906195",
   "metadata": {},
   "outputs": [
    {
     "name": "stdout",
     "output_type": "stream",
     "text": [
      "Features:\n",
      "['MedInc', 'HouseAge', 'AveRooms', 'AveBedrms', 'Population', 'AveOccup', 'Latitude', 'Longitude']\n",
      "Target:\n",
      "[4.526 3.585 3.521 ... 0.923 0.847 0.894]\n"
     ]
    }
   ],
   "source": [
    "print(\"Features:\")\n",
    "print(california.feature_names)\n",
    "print(\"Target:\")\n",
    "print(california.target)"
   ]
  },
  {
   "cell_type": "markdown",
   "id": "4f0811aa-88b9-48cc-b1c2-2b4e3faa1f0e",
   "metadata": {},
   "source": [
    "### Show fold distribution"
   ]
  },
  {
   "cell_type": "code",
   "execution_count": 6,
   "id": "b7292f4f-bcff-4963-84c8-635ccbe23606",
   "metadata": {
    "scrolled": true
   },
   "outputs": [
    {
     "name": "stdout",
     "output_type": "stream",
     "text": [
      "Fold 1\n",
      "Train Index: [    0     1     2 ... 20637 20638 20639]\n",
      "Test Index: [    3    31    34 ... 20617 20633 20635]\n",
      "\n",
      "Fold 2\n",
      "Train Index: [    1     2     3 ... 20636 20637 20639]\n",
      "Test Index: [    0     6    17 ... 20604 20610 20638]\n",
      "\n",
      "Fold 3\n",
      "Train Index: [    0     1     2 ... 20637 20638 20639]\n",
      "Test Index: [    8    29    30 ... 20612 20627 20628]\n",
      "\n",
      "Fold 4\n",
      "Train Index: [    0     1     2 ... 20637 20638 20639]\n",
      "Test Index: [    5    14    20 ... 20606 20630 20636]\n",
      "\n",
      "Fold 5\n",
      "Train Index: [    0     1     2 ... 20637 20638 20639]\n",
      "Test Index: [    7    15    23 ... 20596 20597 20609]\n",
      "\n",
      "Fold 6\n",
      "Train Index: [    0     1     3 ... 20637 20638 20639]\n",
      "Test Index: [    2    10    21 ... 20613 20615 20620]\n",
      "\n",
      "Fold 7\n",
      "Train Index: [    0     1     2 ... 20637 20638 20639]\n",
      "Test Index: [    4    12    18 ... 20624 20629 20631]\n",
      "\n",
      "Fold 8\n",
      "Train Index: [    0     2     3 ... 20637 20638 20639]\n",
      "Test Index: [    1    26    44 ... 20592 20619 20634]\n",
      "\n",
      "Fold 9\n",
      "Train Index: [    0     1     2 ... 20637 20638 20639]\n",
      "Test Index: [   16    24    25 ... 20603 20622 20632]\n",
      "\n",
      "Fold 10\n",
      "Train Index: [    0     1     2 ... 20635 20636 20638]\n",
      "Test Index: [    9    11    13 ... 20626 20637 20639]\n",
      "\n"
     ]
    }
   ],
   "source": [
    "for fold, (train_index, test_index) in enumerate(kf.split(X, y)):\n",
    "    print(f\"Fold {fold + 1}\")\n",
    "    print(\"Train Index:\", train_index)\n",
    "    print(\"Test Index:\", test_index)\n",
    "    print()"
   ]
  },
  {
   "cell_type": "code",
   "execution_count": 7,
   "id": "bfe54509-bdee-4442-8931-38b30893901e",
   "metadata": {},
   "outputs": [],
   "source": [
    "from sklearn.linear_model import LinearRegression\n",
    "from sklearn.tree import DecisionTreeRegressor\n",
    "from sklearn.ensemble import RandomForestRegressor\n",
    "from sklearn.svm import SVR\n",
    "from sklearn.ensemble import GradientBoostingRegressor"
   ]
  },
  {
   "cell_type": "code",
   "execution_count": 8,
   "id": "45f8fadc-5bd2-493e-aad0-75ae50fe363b",
   "metadata": {},
   "outputs": [],
   "source": [
    "linreg = LinearRegression()\n",
    "tree_reg = DecisionTreeRegressor()\n",
    "rf_reg = RandomForestRegressor(n_estimators=100, random_state=42)\n",
    "svr = SVR(kernel='rbf', C=1.0, gamma='scale')\n",
    "gb_reg = GradientBoostingRegressor()\n"
   ]
  },
  {
   "cell_type": "code",
   "execution_count": 9,
   "id": "b2c9dfe8-4140-489c-9362-dd82a375fa08",
   "metadata": {},
   "outputs": [],
   "source": [
    "from sklearn.metrics import mean_squared_error\n",
    "from sklearn.metrics import mean_absolute_error\n",
    "from sklearn.metrics import r2_score\n",
    "from sklearn.metrics import mean_absolute_percentage_error"
   ]
  },
  {
   "cell_type": "code",
   "execution_count": null,
   "id": "7f905e65-4198-4c26-9fd6-360c74c1e05f",
   "metadata": {},
   "outputs": [],
   "source": []
  },
  {
   "cell_type": "code",
   "execution_count": 10,
   "id": "38e135d8-637f-4e8b-86dd-2a92dc675f3c",
   "metadata": {},
   "outputs": [],
   "source": [
    "# ## Code for F1-Score\n",
    "linreg_cross_val_scores = cross_val_score(linreg, X, y, cv=kf, scoring=\"neg_mean_absolute_error\").mean()\n",
    "tree_reg_cross_val_scores = cross_val_score(tree_reg, X, y, cv=kf, scoring=\"neg_mean_absolute_error\").mean()\n",
    "rf_reg_cross_val_scores = cross_val_score(rf_reg, X, y, cv=kf, scoring=\"neg_mean_absolute_error\").mean()\n",
    "svr_cross_val_scores = cross_val_score(svr, X, y, cv=kf, scoring=\"neg_mean_absolute_error\").mean()\n",
    "gb_reg_cross_val_scores = cross_val_score(gb_reg, X, y, cv=kf, scoring=\"neg_mean_absolute_error\").mean()"
   ]
  },
  {
   "cell_type": "code",
   "execution_count": 11,
   "id": "3f0ca7b8-f97e-40ab-b5d4-b50dc32dee7a",
   "metadata": {},
   "outputs": [
    {
     "name": "stdout",
     "output_type": "stream",
     "text": [
      "1. Random Forest: -0.324\n",
      "2. Gradient Boosting Regression: -0.368\n",
      "3. Decision Tree: -0.458\n",
      "4. Linear Regression: -0.532\n",
      "5. Support Vector Regression: -0.869\n"
     ]
    }
   ],
   "source": [
    "cross_val_scores = {\n",
    "    'Linear Regression': linreg_cross_val_scores,\n",
    "    'Decision Tree': tree_reg_cross_val_scores,\n",
    "    'Random Forest': rf_reg_cross_val_scores,\n",
    "    'Support Vector Regression': svr_cross_val_scores,\n",
    "    'Gradient Boosting Regression': gb_reg_cross_val_scores\n",
    "}\n",
    "\n",
    "sorted_cross_val_scores = sorted(cross_val_scores.items(), key=lambda x: x[1], reverse=True)\n",
    "\n",
    "for i, (model, score) in enumerate(sorted_cross_val_scores, start=1):\n",
    "    rounded_score = round(score, 3)\n",
    "    print(f\"{i}. {model}: {rounded_score}\")"
   ]
  },
  {
   "cell_type": "code",
   "execution_count": 12,
   "id": "76195779-56d7-4143-8909-4cdf5e4d57c1",
   "metadata": {},
   "outputs": [],
   "source": [
    "import matplotlib.pyplot as plt"
   ]
  },
  {
   "cell_type": "code",
   "execution_count": 13,
   "id": "d4784695-d912-493b-bd6f-6ec5c3b29f06",
   "metadata": {},
   "outputs": [
    {
     "data": {
      "image/png": "[encoded data removed]",
      "text/plain": [
       "<Figure size 1000x600 with 1 Axes>"
      ]
     },
     "metadata": {},
     "output_type": "display_data"
    }
   ],
   "source": [
    "models = [model for model, _ in sorted_cross_val_scores]\n",
    "scores = [score for _, score in sorted_cross_val_scores]\n",
    "\n",
    "# Erstellt das Balkendiagramm\n",
    "plt.figure(figsize=(10, 6))\n",
    "bars = plt.barh(models, scores, color='skyblue')\n",
    "plt.xlabel('F1-Score')\n",
    "plt.ylabel('ML Models')\n",
    "plt.title('Performance comparison k-fold cross validation k=10')\n",
    "for bar, score in zip(bars, scores):\n",
    "    plt.text(bar.get_width() - 0.3, bar.get_y() + bar.get_height()/2, f'{score:.3f}', \n",
    "             va='center', ha='center', color='black')\n",
    "\n",
    "plt.gca().invert_yaxis()  \n",
    "plt.show()"
   ]
  },
  {
   "cell_type": "code",
   "execution_count": 14,
   "id": "17b1267a-7f43-428f-8b75-077ea129a43b",
   "metadata": {},
   "outputs": [],
   "source": [
    "from sklearn.model_selection import cross_validate\n",
    "from sklearn.metrics import f1_score"
   ]
  },
  {
   "cell_type": "markdown",
   "id": "b4a5dc08-00b4-4e82-8a32-147514abca8f",
   "metadata": {},
   "source": [
    "The following variant does exactly the same thing, except that we now have the option of executing individual actions after each iteration."
   ]
  },
  {
   "cell_type": "code",
   "execution_count": 15,
   "id": "90074125-2a95-4e1f-9849-2bbd9989c0ad",
   "metadata": {
    "scrolled": true
   },
   "outputs": [
    {
     "name": "stdout",
     "output_type": "stream",
     "text": [
      "Fold 1:\n",
      "1. Random Forest: 0.326\n",
      "2. Gradient Boosting Regression: 0.367\n",
      "3. Decision Trees: 0.453\n",
      "4. Linear Regression: 0.542\n",
      "5. Support Vector Regression: 0.873\n",
      "\n",
      "1. Average for Random Forest after 1 Folds: 0.326\n",
      "2. Average for Gradient Boosting Regression after 1 Folds: 0.367\n",
      "3. Average for Decision Trees after 1 Folds: 0.453\n",
      "4. Average for Linear Regression after 1 Folds: 0.542\n",
      "5. Average for Support Vector Regression after 1 Folds: 0.873\n",
      "\n",
      "Fold 2:\n",
      "1. Random Forest: 0.322\n",
      "2. Gradient Boosting Regression: 0.372\n",
      "3. Decision Trees: 0.455\n",
      "4. Linear Regression: 0.526\n",
      "5. Support Vector Regression: 0.844\n",
      "\n",
      "1. Average for Random Forest after 2 Folds: 0.324\n",
      "2. Average for Gradient Boosting Regression after 2 Folds: 0.369\n",
      "3. Average for Decision Trees after 2 Folds: 0.454\n",
      "4. Average for Linear Regression after 2 Folds: 0.534\n",
      "5. Average for Support Vector Regression after 2 Folds: 0.859\n",
      "\n",
      "Fold 3:\n",
      "1. Random Forest: 0.317\n",
      "2. Gradient Boosting Regression: 0.363\n",
      "3. Decision Trees: 0.466\n",
      "4. Linear Regression: 0.517\n",
      "5. Support Vector Regression: 0.874\n",
      "\n",
      "1. Average for Random Forest after 3 Folds: 0.321\n",
      "2. Average for Gradient Boosting Regression after 3 Folds: 0.367\n",
      "3. Average for Decision Trees after 3 Folds: 0.458\n",
      "4. Average for Linear Regression after 3 Folds: 0.528\n",
      "5. Average for Support Vector Regression after 3 Folds: 0.864\n",
      "\n",
      "Fold 4:\n",
      "1. Random Forest: 0.338\n",
      "2. Gradient Boosting Regression: 0.377\n",
      "3. Decision Trees: 0.474\n",
      "4. Linear Regression: 0.556\n",
      "5. Support Vector Regression: 0.902\n",
      "\n",
      "1. Average for Random Forest after 4 Folds: 0.326\n",
      "2. Average for Gradient Boosting Regression after 4 Folds: 0.37\n",
      "3. Average for Decision Trees after 4 Folds: 0.462\n",
      "4. Average for Linear Regression after 4 Folds: 0.535\n",
      "5. Average for Support Vector Regression after 4 Folds: 0.873\n",
      "\n",
      "Fold 5:\n",
      "1. Random Forest: 0.319\n",
      "2. Gradient Boosting Regression: 0.352\n",
      "3. Decision Trees: 0.461\n",
      "4. Linear Regression: 0.524\n",
      "5. Support Vector Regression: 0.842\n",
      "\n",
      "1. Average for Random Forest after 5 Folds: 0.324\n",
      "2. Average for Gradient Boosting Regression after 5 Folds: 0.366\n",
      "3. Average for Decision Trees after 5 Folds: 0.462\n",
      "4. Average for Linear Regression after 5 Folds: 0.533\n",
      "5. Average for Support Vector Regression after 5 Folds: 0.867\n",
      "\n",
      "Fold 6:\n",
      "1. Random Forest: 0.331\n",
      "2. Gradient Boosting Regression: 0.373\n",
      "3. Decision Trees: 0.449\n",
      "4. Linear Regression: 0.533\n",
      "5. Support Vector Regression: 0.874\n",
      "\n",
      "1. Average for Random Forest after 6 Folds: 0.325\n",
      "2. Average for Gradient Boosting Regression after 6 Folds: 0.367\n",
      "3. Average for Decision Trees after 6 Folds: 0.46\n",
      "4. Average for Linear Regression after 6 Folds: 0.533\n",
      "5. Average for Support Vector Regression after 6 Folds: 0.868\n",
      "\n",
      "Fold 7:\n",
      "1. Random Forest: 0.313\n",
      "2. Gradient Boosting Regression: 0.355\n",
      "3. Decision Trees: 0.448\n",
      "4. Linear Regression: 0.521\n",
      "5. Support Vector Regression: 0.874\n",
      "\n",
      "1. Average for Random Forest after 7 Folds: 0.323\n",
      "2. Average for Gradient Boosting Regression after 7 Folds: 0.366\n",
      "3. Average for Decision Trees after 7 Folds: 0.458\n",
      "4. Average for Linear Regression after 7 Folds: 0.531\n",
      "5. Average for Support Vector Regression after 7 Folds: 0.869\n",
      "\n",
      "Fold 8:\n",
      "1. Random Forest: 0.309\n",
      "2. Gradient Boosting Regression: 0.355\n",
      "3. Decision Trees: 0.437\n",
      "4. Linear Regression: 0.514\n",
      "5. Support Vector Regression: 0.864\n",
      "\n",
      "1. Average for Random Forest after 8 Folds: 0.322\n",
      "2. Average for Gradient Boosting Regression after 8 Folds: 0.364\n",
      "3. Average for Decision Trees after 8 Folds: 0.455\n",
      "4. Average for Linear Regression after 8 Folds: 0.529\n",
      "5. Average for Support Vector Regression after 8 Folds: 0.868\n",
      "\n",
      "Fold 9:\n",
      "1. Random Forest: 0.333\n",
      "2. Gradient Boosting Regression: 0.383\n",
      "3. Decision Trees: 0.461\n",
      "4. Linear Regression: 0.542\n",
      "5. Support Vector Regression: 0.871\n",
      "\n",
      "1. Average for Random Forest after 9 Folds: 0.323\n",
      "2. Average for Gradient Boosting Regression after 9 Folds: 0.366\n",
      "3. Average for Decision Trees after 9 Folds: 0.456\n",
      "4. Average for Linear Regression after 9 Folds: 0.531\n",
      "5. Average for Support Vector Regression after 9 Folds: 0.869\n",
      "\n",
      "Fold 10:\n",
      "1. Random Forest: 0.33\n",
      "2. Gradient Boosting Regression: 0.379\n",
      "3. Decision Trees: 0.479\n",
      "4. Linear Regression: 0.544\n",
      "5. Support Vector Regression: 0.867\n",
      "\n",
      "1. Average for Random Forest after 10 Folds: 0.324\n",
      "2. Average for Gradient Boosting Regression after 10 Folds: 0.368\n",
      "3. Average for Decision Trees after 10 Folds: 0.458\n",
      "4. Average for Linear Regression after 10 Folds: 0.532\n",
      "5. Average for Support Vector Regression after 10 Folds: 0.869\n",
      "\n"
     ]
    }
   ],
   "source": [
    "all_fold_scores = {model: [] for model in ['Linear Regression', 'Decision Trees', 'Random Forest', 'Support Vector Regression', 'Gradient Boosting Regression']}\n",
    "placement_history = {model: [] for model in all_fold_scores.keys()}\n",
    "mean_scores_history = {model: [] for model in all_fold_scores.keys()}  \n",
    "\n",
    "\n",
    "#for fold_idx, (train_idx, test_idx) in enumerate(kf.split(X,y), start=1): #for skf\n",
    "for fold_idx, (train_idx, test_idx) in enumerate(kf.split(X), start=1): #for kf\n",
    "    print(f\"Fold {fold_idx}:\")\n",
    "    \n",
    "    X_train, X_test = X[train_idx], X[test_idx]\n",
    "    y_train, y_test = y[train_idx], y[test_idx]\n",
    "\n",
    "    linreg.fit(X_train, y_train)\n",
    "    tree_reg.fit(X_train, y_train)\n",
    "    rf_reg.fit(X_train, y_train)\n",
    "    svr.fit(X_train, y_train)\n",
    "    gb_reg.fit(X_train, y_train)\n",
    "    \n",
    "    linreg_predictions = linreg.predict(X_test)\n",
    "    tree_reg_predictions = tree_reg.predict(X_test)\n",
    "    rf_reg_predictions = rf_reg.predict(X_test)\n",
    "    svr_predictions = svr.predict(X_test)\n",
    "    gb_reg_predictions = gb_reg.predict(X_test)\n",
    "\n",
    "    linreg_mae = mean_absolute_error(y_test, linreg_predictions)\n",
    "    tree_reg_mae = mean_absolute_error(y_test, tree_reg_predictions)\n",
    "    rf_reg_mae = mean_absolute_error(y_test, rf_reg_predictions)\n",
    "    svr_mae = mean_absolute_error(y_test, svr_predictions)\n",
    "    gb_reg_mae = mean_absolute_error(y_test, gb_reg_predictions)\n",
    "    \n",
    "    all_fold_scores['Linear Regression'].append(linreg_mae)\n",
    "    all_fold_scores['Decision Trees'].append(tree_reg_mae)\n",
    "    all_fold_scores['Random Forest'].append(rf_reg_mae)\n",
    "    all_fold_scores['Support Vector Regression'].append(svr_mae)\n",
    "    all_fold_scores['Gradient Boosting Regression'].append(gb_reg_mae)\n",
    "\n",
    "    cross_val_scores_actual_fold = {\n",
    "        'Linear Regression': linreg_mae,\n",
    "        'Decision Trees': tree_reg_mae,\n",
    "        'Random Forest': rf_reg_mae,\n",
    "        'Support Vector Regression': svr_mae,\n",
    "        'Gradient Boosting Regression': gb_reg_mae\n",
    "    }\n",
    "    \n",
    "    \n",
    "    sorted_cross_val_scores_actual_fold = sorted(cross_val_scores_actual_fold.items(), key=lambda x: x[1], reverse=False)\n",
    "\n",
    "    for i, (model, score) in enumerate(sorted_cross_val_scores_actual_fold, start=1):\n",
    "        rounded_score = round(score, 3)\n",
    "        print(f\"{i}. {model}: {rounded_score}\")\n",
    "\n",
    "    mean_scores = {model: np.mean(scores) for model, scores in all_fold_scores.items()}\n",
    "    sorted_mean_scores = sorted(mean_scores.items(), key=lambda x: x[1], reverse=False)\n",
    "\n",
    "    print()  \n",
    "   \n",
    "    for i, (model, mean_score) in enumerate(sorted_mean_scores, start=1):\n",
    "        print(f\"{i}. Average for {model} after {fold_idx} Folds: {round(mean_score, 3)}\")\n",
    "        placement_history[model].append(i)\n",
    "        mean_scores_history[model].append(round(mean_score, 3))          \n",
    "    print()\n",
    "\n",
    "\n"
   ]
  },
  {
   "cell_type": "code",
   "execution_count": 16,
   "id": "683b8143-63a7-4a8d-9fae-fd463f626f66",
   "metadata": {},
   "outputs": [
    {
     "data": {
      "image/png": "[encoded data removed]",
      "text/plain": [
       "<Figure size 1000x600 with 1 Axes>"
      ]
     },
     "metadata": {},
     "output_type": "display_data"
    }
   ],
   "source": [
    "plt.figure(figsize=(10, 6))\n",
    "for model, placements in placement_history.items():\n",
    "    plt.plot(range(1, len(placements) + 1), placements, marker='o', label=model)\n",
    "\n",
    "plt.gca().invert_yaxis()  \n",
    "plt.xticks(range(1, kf.get_n_splits() + 1))\n",
    "plt.yticks(range(1, max(max(placements) for placements in placement_history.values()) + 1))  \n",
    "\n",
    "plt.xlabel('Fold')\n",
    "plt.ylabel('Platzierung')\n",
    "plt.title('Platzierung der Algorithmen nach jeder Faltung')\n",
    "\n",
    "\n",
    "plt.legend(loc='upper center', bbox_to_anchor=(0.5, -0.15), ncol=3)\n",
    "\n",
    "plt.grid(True)\n",
    "plt.tight_layout(rect=[0, 0, 1, 0.9])  \n",
    "plt.show()\n"
   ]
  },
  {
   "cell_type": "code",
   "execution_count": 17,
   "id": "4195781b-3b43-4266-acc9-6f8ee189d397",
   "metadata": {},
   "outputs": [],
   "source": [
    "import scipy.stats as stats\n",
    "import numpy as np\n",
    "from scipy.stats import ttest_ind\n",
    "from scipy.stats import mannwhitneyu"
   ]
  },
  {
   "cell_type": "code",
   "execution_count": 19,
   "id": "c71b33b9-44d7-4290-bcd9-469027d5c2d4",
   "metadata": {},
   "outputs": [
    {
     "name": "stdout",
     "output_type": "stream",
     "text": [
      "T-Test:\n",
      "Random Forest is significantly better than Linear Regression from Fold 2 (p-Wert: 0.0002)\n",
      "Random Forest is significantly better than Decision Trees from Fold 2 (p-Wert: 0.0000)\n",
      "Random Forest is significantly better than Support Vector Regression from Fold 2 (p-Wert: 0.0001)\n",
      "Random Forest is significantly better than Gradient Boosting Regression from Fold 2 (p-Wert: 0.0005)\n",
      "Mann-Whitney-U-Test:\n",
      "Random Forest  is significantly better than Linear Regression from Fold 4 (p-Wert: 0.0147)\n",
      "Random Forest  is significantly better than Decision Trees from Fold 4 (p-Wert: 0.0147)\n",
      "Random Forest  is significantly better than Support Vector Regression from Fold 4 (p-Wert: 0.0142)\n",
      "Random Forest  is significantly better than Gradient Boosting Regression from Fold 3 (p-Wert: 0.0383)\n"
     ]
    }
   ],
   "source": [
    "mae_rf = mean_scores_history['Random Forest']\n",
    "mae_lr = mean_scores_history['Linear Regression']\n",
    "mae_tree = mean_scores_history['Decision Trees']\n",
    "mae_svr = mean_scores_history['Support Vector Regression']\n",
    "mae_boost = mean_scores_history['Gradient Boosting Regression']\n",
    "\n",
    "best_model_name = sorted_cross_val_scores[0][0]\n",
    "\n",
    "if best_model_name == 'Random Forest':\n",
    "    mae_best = mae_rf\n",
    "elif best_model_name == 'Linear Regression':\n",
    "    mae_best = mae_lr\n",
    "elif best_model_name == 'Decision Trees':\n",
    "    mae_best = mae_tree\n",
    "elif best_model_name == 'Support Vector Regression':\n",
    "    mae_best = mae_svr\n",
    "elif best_model_name == 'Gradient Boosting Regression':\n",
    "    mae_best = mae_boost\n",
    "\n",
    "\n",
    "\n",
    "def find_earliest_significant_fold_ttest(mae_best, mae):\n",
    "    for i in range(len(mae_best)):\n",
    "        t_stat, p_value = ttest_ind(mae_best[:i+1], mae[:i+1],alternative='less')                                                                     \n",
    "        if p_value < 0.05: \n",
    "            return i+1, p_value\n",
    "    return None, None\n",
    "\n",
    "def find_earliest_significant_fold_manwhitneyu(mae_best, mae):\n",
    "    for i in range(len(mae_best)):\n",
    "        t_stat, p_value = mannwhitneyu(mae_best[:i+1], mae[:i+1],alternative='less')  \n",
    "                                                                                \n",
    "        if p_value < 0.05: \n",
    "            return i+1, p_value\n",
    "    return None, None\n",
    "\n",
    "\n",
    "algorithms = {\n",
    "            'Linear Regression': mae_lr,\n",
    "            'Decision Trees': mae_tree,\n",
    "            'Random Forest': mae_rf,\n",
    "            'Support Vector Regression': mae_svr,\n",
    "            'Gradient Boosting Regression': mae_boost\n",
    "    }\n",
    "\n",
    "print(\"T-Test:\")\n",
    "for algo_name, mae in algorithms.items():\n",
    "    if mae_best != mae:\n",
    "        fold, p_value = find_earliest_significant_fold_ttest(mae_best, mae)\n",
    "        if fold:\n",
    "            print(f\"{best_model_name} is significantly better than {algo_name} from Fold {fold} (p-Wert: {p_value:.4f})\")\n",
    "        else:\n",
    "            print(f\"{best_model_name} is not significantly better than {algo_name} within 10 folds.\")\n",
    "\n",
    "print(\"Mann-Whitney-U-Test:\")\n",
    "for algo_name, mae in algorithms.items():\n",
    "    if mae_best != mae:\n",
    "        fold, p_value = find_earliest_significant_fold_manwhitneyu(mae_best, mae)\n",
    "        if fold:\n",
    "            print(f\"{best_model_name}  is significantly better than {algo_name} from Fold {fold} (p-Wert: {p_value:.4f})\")\n",
    "        else:\n",
    "            print(f\"{best_model_name} is not significantly better than {algo_name} within 10 folds.\")\n"
   ]
  },
  {
   "cell_type": "code",
   "execution_count": null,
   "id": "3074abeb-eac6-422f-b7b8-8067b8a9c1eb",
   "metadata": {},
   "outputs": [],
   "source": []
  },
  {
   "cell_type": "markdown",
   "id": "8bdf0037-2799-4014-bc7d-cff2cf49021a",
   "metadata": {},
   "source": [
    "### **Evaluation**\n",
    "\n",
    "The results can be evaluated in three ways:<br>\n",
    "1.interpretation of the diagram<br>\n",
    "2.Statistical significance using t-tests<br>\n",
    "3. statistical significance using the Mann-Whitney U-test<br>\n",
    "<br>\n",
    "1. in this data set, we can say with certainty in the **diagram** from the **1 fold** that Random Forest is the best algorithm.<br>\n",
    "2. using the **T-test** we can also show from the **2 fold** that Random Forest is the best algorithm.<br>\n",
    "3. using the **Mann-Whitney-U test** we can also show that Random Forest is the best algorithm from the **4 fold**.<br>"
   ]
  },
  {
   "cell_type": "code",
   "execution_count": null,
   "id": "7b3b6d46-81c3-4ce4-bb32-c5804476cfd3",
   "metadata": {},
   "outputs": [],
   "source": []
  }
 ],
 "metadata": {
  "kernelspec": {
   "display_name": "Python 3 (ipykernel)",
   "language": "python",
   "name": "python3"
  },
  "language_info": {
   "codemirror_mode": {
    "name": "ipython",
    "version": 3
   },
   "file_extension": ".py",
   "mimetype": "text/x-python",
   "name": "python",
   "nbconvert_exporter": "python",
   "pygments_lexer": "ipython3",
   "version": "3.12.2"
  }
 },
 "nbformat": 4,
 "nbformat_minor": 5
}
