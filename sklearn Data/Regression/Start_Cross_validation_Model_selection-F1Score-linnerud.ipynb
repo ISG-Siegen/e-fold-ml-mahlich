{
 "cells": [
  {
   "cell_type": "markdown",
   "id": "b428b503-d85b-4d39-8cf7-bfbbeff63993",
   "metadata": {},
   "source": [
    "### Welche ML Algortihmen werden benutzt ?\n",
    "### Regression Problem\n",
    "Lineare Regression  <br>\n",
    "DecisionTreeRegressor <br>\n",
    "Support Vector Regression (SVR)<br>\n",
    "Random Forest (RandomForestRegressor)<br>\n",
    "KNeighborsClassifier (Knn)<br>\n",
    "GradientBoostingRegressor"
   ]
  },
  {
   "cell_type": "code",
   "execution_count": 1,
   "id": "54be0bdf-dec9-4737-b797-ca06b40991dd",
   "metadata": {},
   "outputs": [],
   "source": [
    "from sklearn.model_selection import KFold\n",
    "from sklearn.model_selection import StratifiedKFold\n",
    "from sklearn.model_selection import cross_val_score\n",
    "import numpy as np\n",
    "import pandas as pd"
   ]
  },
  {
   "cell_type": "markdown",
   "id": "c55a08ea-bfa1-4a4d-a932-1d51510f618d",
   "metadata": {},
   "source": [
    "### Welche Datensatz?\n",
    "linnerud <br>\n",
    "https://scikit-learn.org/stable/modules/generated/sklearn.datasets.load_linnerud.html#sklearn.datasets.load_linnerud"
   ]
  },
  {
   "cell_type": "code",
   "execution_count": 2,
   "id": "21304963-6954-4971-aa66-0dc208b956a1",
   "metadata": {},
   "outputs": [],
   "source": [
    "from sklearn.datasets import load_linnerud\n",
    "linnerud = load_linnerud()\n",
    "X = linnerud.data\n",
    "y = linnerud.target"
   ]
  },
  {
   "cell_type": "markdown",
   "id": "64a402fd-f1f1-433f-89eb-d0d58a7500c8",
   "metadata": {},
   "source": [
    "print(\"Features:\")\n",
    "print(diabetes.feature_names)\n",
    "print(\"Target:\")\n",
    "print(diabetes.target)"
   ]
  },
  {
   "cell_type": "markdown",
   "id": "4f6a1018-d2aa-438a-a943-903bb7838a41",
   "metadata": {},
   "source": [
    "diabetes_df = pd.DataFrame(diabetes.data, columns=diabetes.feature_names)\n",
    "diabetes_df['target'] = diabetes.target\n",
    "print(diabetes_df.head())"
   ]
  },
  {
   "cell_type": "code",
   "execution_count": 3,
   "id": "f201b7a7-a164-43b3-bc6b-312153049d6c",
   "metadata": {},
   "outputs": [],
   "source": [
    "k=10 #Anzahl der Folds\n",
    "#X, y = shuffle(X, y, random_state=4)  # Daten mischen, das stellt sicher, dass beide Modelle exakt dieselben Folds zur Validierung verwenden\n",
    "kf = KFold(n_splits=k, shuffle=True, random_state=42) #Folds bei allen Modellen identisch #7 gutes Ergebniss #42mittel #3 schwieriges Ergebniss\n",
    "#kf = StratifiedKFold(n_splits=k, shuffle=True, random_state=42)"
   ]
  },
  {
   "cell_type": "markdown",
   "id": "46958054-99ba-45a7-af2b-45aaef7e922a",
   "metadata": {},
   "source": [
    "**StratifiedKFold**  stellt sicher, dass jeder Fold eine ähnliche Klassenverteilung wie der Gesamtdatensatz aufweist. \n",
    "hilft die Repräsentativität der Folds zu verbessern und liefert robustere Validierungsergebnisse,\n",
    "insbesondere bei **unausgewogenen Datensätzen**."
   ]
  },
  {
   "cell_type": "markdown",
   "id": "4f0811aa-88b9-48cc-b1c2-2b4e3faa1f0e",
   "metadata": {},
   "source": [
    "### Foldverteilung anzeigen"
   ]
  },
  {
   "cell_type": "code",
   "execution_count": 4,
   "id": "b7292f4f-bcff-4963-84c8-635ccbe23606",
   "metadata": {
    "scrolled": true
   },
   "outputs": [
    {
     "name": "stdout",
     "output_type": "stream",
     "text": [
      "Fold 1\n",
      "Train Index: [ 1  2  3  4  5  6  7  8  9 10 11 12 13 14 15 16 18 19]\n",
      "Test Index: [ 0 17]\n",
      "\n",
      "Fold 2\n",
      "Train Index: [ 0  2  3  4  5  6  7  8  9 10 11 12 13 14 16 17 18 19]\n",
      "Test Index: [ 1 15]\n",
      "\n",
      "Fold 3\n",
      "Train Index: [ 0  1  2  3  4  6  7  9 10 11 12 13 14 15 16 17 18 19]\n",
      "Test Index: [5 8]\n",
      "\n",
      "Fold 4\n",
      "Train Index: [ 0  1  2  4  5  6  7  8  9 10 12 13 14 15 16 17 18 19]\n",
      "Test Index: [ 3 11]\n",
      "\n",
      "Fold 5\n",
      "Train Index: [ 0  1  2  3  4  5  6  7  8  9 10 11 12 13 14 15 17 19]\n",
      "Test Index: [16 18]\n",
      "\n",
      "Fold 6\n",
      "Train Index: [ 0  1  3  4  5  6  7  8  9 10 11 12 14 15 16 17 18 19]\n",
      "Test Index: [ 2 13]\n",
      "\n",
      "Fold 7\n",
      "Train Index: [ 0  1  2  3  4  5  6  7  8 10 11 12 13 14 15 16 17 18]\n",
      "Test Index: [ 9 19]\n",
      "\n",
      "Fold 8\n",
      "Train Index: [ 0  1  2  3  5  6  7  8  9 10 11 13 14 15 16 17 18 19]\n",
      "Test Index: [ 4 12]\n",
      "\n",
      "Fold 9\n",
      "Train Index: [ 0  1  2  3  4  5  6  8  9 11 12 13 14 15 16 17 18 19]\n",
      "Test Index: [ 7 10]\n",
      "\n",
      "Fold 10\n",
      "Train Index: [ 0  1  2  3  4  5  7  8  9 10 11 12 13 15 16 17 18 19]\n",
      "Test Index: [ 6 14]\n",
      "\n"
     ]
    }
   ],
   "source": [
    "for fold, (train_index, test_index) in enumerate(kf.split(X, y)):\n",
    "    print(f\"Fold {fold + 1}\")\n",
    "    print(\"Train Index:\", train_index)\n",
    "    print(\"Test Index:\", test_index)\n",
    "    print()"
   ]
  },
  {
   "cell_type": "code",
   "execution_count": 5,
   "id": "bfe54509-bdee-4442-8931-38b30893901e",
   "metadata": {},
   "outputs": [],
   "source": [
    "from sklearn.linear_model import LinearRegression\n",
    "from sklearn.tree import DecisionTreeRegressor\n",
    "from sklearn.ensemble import RandomForestRegressor\n",
    "from sklearn.svm import SVR\n",
    "from sklearn.ensemble import GradientBoostingRegressor"
   ]
  },
  {
   "cell_type": "code",
   "execution_count": 15,
   "id": "45f8fadc-5bd2-493e-aad0-75ae50fe363b",
   "metadata": {},
   "outputs": [],
   "source": [
    "linreg = LinearRegression()\n",
    "tree_reg = DecisionTreeRegressor()\n",
    "rf_reg = RandomForestRegressor(n_estimators=100, random_state=42)\n",
    "svr = SVR(kernel='rbf', C=1.0, gamma='scale')\n",
    "gb_reg = GradientBoostingRegressor()\n"
   ]
  },
  {
   "cell_type": "code",
   "execution_count": 16,
   "id": "b2c9dfe8-4140-489c-9362-dd82a375fa08",
   "metadata": {},
   "outputs": [],
   "source": [
    "from sklearn.metrics import mean_squared_error\n",
    "from sklearn.metrics import mean_absolute_error\n",
    "from sklearn.metrics import r2_score\n",
    "from sklearn.metrics import mean_absolute_percentage_error"
   ]
  },
  {
   "cell_type": "code",
   "execution_count": null,
   "id": "7f905e65-4198-4c26-9fd6-360c74c1e05f",
   "metadata": {},
   "outputs": [],
   "source": []
  },
  {
   "cell_type": "code",
   "execution_count": 17,
   "id": "38e135d8-637f-4e8b-86dd-2a92dc675f3c",
   "metadata": {},
   "outputs": [
    {
     "ename": "TypeError",
     "evalue": "got an unexpected keyword argument 'multioutput'",
     "output_type": "error",
     "traceback": [
      "\u001b[1;31m---------------------------------------------------------------------------\u001b[0m",
      "\u001b[1;31mTypeError\u001b[0m                                 Traceback (most recent call last)",
      "Cell \u001b[1;32mIn[17], line 5\u001b[0m\n\u001b[0;32m      3\u001b[0m tree_reg_cross_val_scores \u001b[38;5;241m=\u001b[39m cross_val_score(tree_reg, X, y, cv\u001b[38;5;241m=\u001b[39mkf, scoring\u001b[38;5;241m=\u001b[39m\u001b[38;5;124m\"\u001b[39m\u001b[38;5;124mneg_mean_absolute_error\u001b[39m\u001b[38;5;124m\"\u001b[39m)\u001b[38;5;241m.\u001b[39mmean()\n\u001b[0;32m      4\u001b[0m rf_reg_cross_val_scores \u001b[38;5;241m=\u001b[39m cross_val_score(rf_reg, X, y, cv\u001b[38;5;241m=\u001b[39mkf, scoring\u001b[38;5;241m=\u001b[39m\u001b[38;5;124m\"\u001b[39m\u001b[38;5;124mneg_mean_absolute_error\u001b[39m\u001b[38;5;124m\"\u001b[39m)\u001b[38;5;241m.\u001b[39mmean()\n\u001b[1;32m----> 5\u001b[0m svr_cross_val_scores \u001b[38;5;241m=\u001b[39m \u001b[43mcross_val_score\u001b[49m\u001b[43m(\u001b[49m\u001b[43msvr\u001b[49m\u001b[43m,\u001b[49m\u001b[43m \u001b[49m\u001b[43mX\u001b[49m\u001b[43m,\u001b[49m\u001b[43m \u001b[49m\u001b[43my\u001b[49m\u001b[43m,\u001b[49m\u001b[43m \u001b[49m\u001b[43mcv\u001b[49m\u001b[38;5;241;43m=\u001b[39;49m\u001b[43mkf\u001b[49m\u001b[43m,\u001b[49m\u001b[43m \u001b[49m\u001b[43mscoring\u001b[49m\u001b[38;5;241;43m=\u001b[39;49m\u001b[38;5;124;43m\"\u001b[39;49m\u001b[38;5;124;43mneg_mean_absolute_error\u001b[39;49m\u001b[38;5;124;43m\"\u001b[39;49m\u001b[43m,\u001b[49m\u001b[43mmultioutput\u001b[49m\u001b[38;5;241;43m=\u001b[39;49m\u001b[38;5;124;43m'\u001b[39;49m\u001b[38;5;124;43muniform_average\u001b[39;49m\u001b[38;5;124;43m'\u001b[39;49m\u001b[43m)\u001b[49m\u001b[38;5;241m.\u001b[39mmean()\n\u001b[0;32m      6\u001b[0m gb_reg_cross_val_scores \u001b[38;5;241m=\u001b[39m cross_val_score(gb_reg, X, y, cv\u001b[38;5;241m=\u001b[39mkf, scoring\u001b[38;5;241m=\u001b[39m\u001b[38;5;124m\"\u001b[39m\u001b[38;5;124mneg_mean_absolute_error\u001b[39m\u001b[38;5;124m\"\u001b[39m,multioutput\u001b[38;5;241m=\u001b[39m\u001b[38;5;124m'\u001b[39m\u001b[38;5;124muniform_average\u001b[39m\u001b[38;5;124m'\u001b[39m)\u001b[38;5;241m.\u001b[39mmean()\n",
      "File \u001b[1;32m~\\PycharmProjects\\Energy_Aware_K-fold-cross_validation\\.venv\\Lib\\site-packages\\sklearn\\utils\\_param_validation.py:191\u001b[0m, in \u001b[0;36mvalidate_params.<locals>.decorator.<locals>.wrapper\u001b[1;34m(*args, **kwargs)\u001b[0m\n\u001b[0;32m    188\u001b[0m func_sig \u001b[38;5;241m=\u001b[39m signature(func)\n\u001b[0;32m    190\u001b[0m \u001b[38;5;66;03m# Map *args/**kwargs to the function signature\u001b[39;00m\n\u001b[1;32m--> 191\u001b[0m params \u001b[38;5;241m=\u001b[39m \u001b[43mfunc_sig\u001b[49m\u001b[38;5;241;43m.\u001b[39;49m\u001b[43mbind\u001b[49m\u001b[43m(\u001b[49m\u001b[38;5;241;43m*\u001b[39;49m\u001b[43margs\u001b[49m\u001b[43m,\u001b[49m\u001b[43m \u001b[49m\u001b[38;5;241;43m*\u001b[39;49m\u001b[38;5;241;43m*\u001b[39;49m\u001b[43mkwargs\u001b[49m\u001b[43m)\u001b[49m\n\u001b[0;32m    192\u001b[0m params\u001b[38;5;241m.\u001b[39mapply_defaults()\n\u001b[0;32m    194\u001b[0m \u001b[38;5;66;03m# ignore self/cls and positional/keyword markers\u001b[39;00m\n",
      "File \u001b[1;32m~\\AppData\\Local\\Programs\\Python\\Python312\\Lib\\inspect.py:3259\u001b[0m, in \u001b[0;36mSignature.bind\u001b[1;34m(self, *args, **kwargs)\u001b[0m\n\u001b[0;32m   3254\u001b[0m \u001b[38;5;28;01mdef\u001b[39;00m \u001b[38;5;21mbind\u001b[39m(\u001b[38;5;28mself\u001b[39m, \u001b[38;5;241m/\u001b[39m, \u001b[38;5;241m*\u001b[39margs, \u001b[38;5;241m*\u001b[39m\u001b[38;5;241m*\u001b[39mkwargs):\n\u001b[0;32m   3255\u001b[0m \u001b[38;5;250m    \u001b[39m\u001b[38;5;124;03m\"\"\"Get a BoundArguments object, that maps the passed `args`\u001b[39;00m\n\u001b[0;32m   3256\u001b[0m \u001b[38;5;124;03m    and `kwargs` to the function's signature.  Raises `TypeError`\u001b[39;00m\n\u001b[0;32m   3257\u001b[0m \u001b[38;5;124;03m    if the passed arguments can not be bound.\u001b[39;00m\n\u001b[0;32m   3258\u001b[0m \u001b[38;5;124;03m    \"\"\"\u001b[39;00m\n\u001b[1;32m-> 3259\u001b[0m     \u001b[38;5;28;01mreturn\u001b[39;00m \u001b[38;5;28;43mself\u001b[39;49m\u001b[38;5;241;43m.\u001b[39;49m\u001b[43m_bind\u001b[49m\u001b[43m(\u001b[49m\u001b[43margs\u001b[49m\u001b[43m,\u001b[49m\u001b[43m \u001b[49m\u001b[43mkwargs\u001b[49m\u001b[43m)\u001b[49m\n",
      "File \u001b[1;32m~\\AppData\\Local\\Programs\\Python\\Python312\\Lib\\inspect.py:3248\u001b[0m, in \u001b[0;36mSignature._bind\u001b[1;34m(self, args, kwargs, partial)\u001b[0m\n\u001b[0;32m   3246\u001b[0m         arguments[kwargs_param\u001b[38;5;241m.\u001b[39mname] \u001b[38;5;241m=\u001b[39m kwargs\n\u001b[0;32m   3247\u001b[0m     \u001b[38;5;28;01melse\u001b[39;00m:\n\u001b[1;32m-> 3248\u001b[0m         \u001b[38;5;28;01mraise\u001b[39;00m \u001b[38;5;167;01mTypeError\u001b[39;00m(\n\u001b[0;32m   3249\u001b[0m             \u001b[38;5;124m'\u001b[39m\u001b[38;5;124mgot an unexpected keyword argument \u001b[39m\u001b[38;5;132;01m{arg!r}\u001b[39;00m\u001b[38;5;124m'\u001b[39m\u001b[38;5;241m.\u001b[39mformat(\n\u001b[0;32m   3250\u001b[0m                 arg\u001b[38;5;241m=\u001b[39m\u001b[38;5;28mnext\u001b[39m(\u001b[38;5;28miter\u001b[39m(kwargs))))\n\u001b[0;32m   3252\u001b[0m \u001b[38;5;28;01mreturn\u001b[39;00m \u001b[38;5;28mself\u001b[39m\u001b[38;5;241m.\u001b[39m_bound_arguments_cls(\u001b[38;5;28mself\u001b[39m, arguments)\n",
      "\u001b[1;31mTypeError\u001b[0m: got an unexpected keyword argument 'multioutput'"
     ]
    }
   ],
   "source": [
    "# ## Code for F1-Score\n",
    "linreg_cross_val_scores = cross_val_score(linreg, X, y, cv=kf, scoring=\"neg_mean_absolute_error\").mean()\n",
    "tree_reg_cross_val_scores = cross_val_score(tree_reg, X, y, cv=kf, scoring=\"neg_mean_absolute_error\").mean()\n",
    "rf_reg_cross_val_scores = cross_val_score(rf_reg, X, y, cv=kf, scoring=\"neg_mean_absolute_error\").mean()\n",
    "svr_cross_val_scores = cross_val_score(svr, X, y, cv=kf, scoring=\"neg_mean_absolute_error\",multioutput='uniform_average').mean()\n",
    "gb_reg_cross_val_scores = cross_val_score(gb_reg, X, y, cv=kf, scoring=\"neg_mean_absolute_error\",multioutput='uniform_average').mean()"
   ]
  },
  {
   "cell_type": "code",
   "execution_count": 11,
   "id": "e50cf4a9-ac72-4c48-b645-7822ffdd1dec",
   "metadata": {},
   "outputs": [
    {
     "name": "stdout",
     "output_type": "stream",
     "text": [
      "-9.77505605623318\n",
      "-10.51666666666667\n",
      "-10.261000000000001\n"
     ]
    }
   ],
   "source": [
    "#print(linreg_cross_val_scores)\n",
    "print(linreg_cross_val_scores)\n",
    "print(tree_reg_cross_val_scores)\n",
    "print(rf_reg_cross_val_scores)\n",
    "#print(svr_cross_val_scores)\n",
    "#print(gb_reg_cross_val_scores)"
   ]
  },
  {
   "cell_type": "code",
   "execution_count": 12,
   "id": "3f0ca7b8-f97e-40ab-b5d4-b50dc32dee7a",
   "metadata": {},
   "outputs": [
    {
     "name": "stdout",
     "output_type": "stream",
     "text": [
      "1. Linear Regression: -9.775\n",
      "2. Random Forest: -10.261\n",
      "3. Decision Tree: -10.517\n"
     ]
    }
   ],
   "source": [
    "cross_val_scores = {\n",
    "    'Linear Regression': linreg_cross_val_scores,\n",
    "    'Decision Tree': tree_reg_cross_val_scores,\n",
    "    'Random Forest': rf_reg_cross_val_scores,\n",
    "    #'Support Vector Regression': svr_cross_val_scores,\n",
    "    #'Gradient Boosting Regression': gb_reg_cross_val_scores\n",
    "}\n",
    "\n",
    "sorted_cross_val_scores = sorted(cross_val_scores.items(), key=lambda x: x[1], reverse=True)\n",
    "\n",
    "for i, (model, score) in enumerate(sorted_cross_val_scores, start=1):\n",
    "    rounded_score = round(score, 3)\n",
    "    print(f\"{i}. {model}: {rounded_score}\")"
   ]
  },
  {
   "cell_type": "code",
   "execution_count": 13,
   "id": "76195779-56d7-4143-8909-4cdf5e4d57c1",
   "metadata": {},
   "outputs": [],
   "source": [
    "import matplotlib.pyplot as plt"
   ]
  },
  {
   "cell_type": "code",
   "execution_count": 14,
   "id": "d4784695-d912-493b-bd6f-6ec5c3b29f06",
   "metadata": {},
   "outputs": [
    {
     "data": {
      "image/png": "[encoded data removed]",
      "text/plain": [
       "<Figure size 1000x600 with 1 Axes>"
      ]
     },
     "metadata": {},
     "output_type": "display_data"
    }
   ],
   "source": [
    "models = [model for model, _ in sorted_cross_val_scores]\n",
    "scores = [score for _, score in sorted_cross_val_scores]\n",
    "\n",
    "# Erstellt das Balkendiagramm\n",
    "plt.figure(figsize=(10, 6))\n",
    "bars = plt.barh(models, scores, color='skyblue')\n",
    "plt.xlabel('MAE')\n",
    "plt.ylabel('ML Modelle')\n",
    "plt.title('Performance Vergleich k-fold cross validation k=10')\n",
    "for bar, score in zip(bars, scores):\n",
    "    plt.text(bar.get_width() - 0.3, bar.get_y() + bar.get_height()/2, f'{score:.3f}', \n",
    "             va='center', ha='center', color='black')\n",
    "\n",
    "plt.gca().invert_yaxis()  \n",
    "plt.show()"
   ]
  },
  {
   "cell_type": "markdown",
   "id": "eb0df3bd-5d36-4b2a-87ec-b124b60ea306",
   "metadata": {},
   "source": [
    "Wir wissen jetzt welcher Algorithmus am besten performt. Was wir aber nicht wissen ist, waren dafür wirklich 10 folds notwendig oder hätten sogra 2-3 gereicht ?\n",
    "\n",
    "# ______________________________________________________________\n",
    "\n",
    "\n"
   ]
  },
  {
   "cell_type": "code",
   "execution_count": null,
   "id": "17b1267a-7f43-428f-8b75-077ea129a43b",
   "metadata": {},
   "outputs": [],
   "source": [
    "from sklearn.model_selection import cross_validate\n",
    "from sklearn.metrics import f1_score"
   ]
  },
  {
   "cell_type": "markdown",
   "id": "b4a5dc08-00b4-4e82-8a32-147514abca8f",
   "metadata": {},
   "source": [
    "Die folgende Variante macht exakt das gleiche, nur das wir jetzt die möglichkeit haben einzele Aktionen nach jeder Iteration auszuführen."
   ]
  },
  {
   "cell_type": "code",
   "execution_count": null,
   "id": "90074125-2a95-4e1f-9849-2bbd9989c0ad",
   "metadata": {
    "scrolled": true
   },
   "outputs": [],
   "source": [
    "all_fold_scores = {model: [] for model in ['Linear Regression', 'Decision Trees', 'Random Forest', 'Support Vector Regression', 'Gradient Boosting Regression']}\n",
    "placement_history = {model: [] for model in all_fold_scores.keys()}\n",
    "mean_scores_history = {model: [] for model in all_fold_scores.keys()}  \n",
    "\n",
    "\n",
    "#for fold_idx, (train_idx, test_idx) in enumerate(kf.split(X,y), start=1): #für skf\n",
    "for fold_idx, (train_idx, test_idx) in enumerate(kf.split(X), start=1): #für kf\n",
    "    print(f\"Fold {fold_idx}:\")\n",
    "    \n",
    "    X_train, X_test = X[train_idx], X[test_idx]\n",
    "    y_train, y_test = y[train_idx], y[test_idx]\n",
    "\n",
    "    linreg.fit(X_train, y_train)\n",
    "    tree_reg.fit(X_train, y_train)\n",
    "    rf_reg.fit(X_train, y_train)\n",
    "    svr.fit(X_train, y_train)\n",
    "    gb_reg.fit(X_train, y_train)\n",
    "    \n",
    "    linreg_predictions = linreg.predict(X_test)\n",
    "    tree_reg_predictions = tree_reg.predict(X_test)\n",
    "    rf_reg_predictions = rf_reg.predict(X_test)\n",
    "    svr_predictions = svr.predict(X_test)\n",
    "    gb_reg_predictions = gb_reg.predict(X_test)\n",
    "\n",
    "    linreg_mae = mean_absolute_error(y_test, linreg_predictions)\n",
    "    tree_reg_mae = mean_absolute_error(y_test, tree_reg_predictions)\n",
    "    rf_reg_mae = mean_absolute_error(y_test, rf_reg_predictions)\n",
    "    svr_mae = mean_absolute_error(y_test, svr_predictions)\n",
    "    gb_reg_mae = mean_absolute_error(y_test, gb_reg_predictions)\n",
    "    \n",
    "    all_fold_scores['Linear Regression'].append(linreg_mae)\n",
    "    all_fold_scores['Decision Trees'].append(tree_reg_mae)\n",
    "    all_fold_scores['Random Forest'].append(rf_reg_mae)\n",
    "    all_fold_scores['Support Vector Regression'].append(svr_mae)\n",
    "    all_fold_scores['Gradient Boosting Regression'].append(gb_reg_mae)\n",
    "\n",
    "    cross_val_scores_actual_fold = {\n",
    "        'Linear Regression': linreg_mae,\n",
    "        'Decision Trees': tree_reg_mae,\n",
    "        'Random Forest': rf_reg_mae,\n",
    "        'Support Vector Regression': svr_mae,\n",
    "        'Gradient Boosting Regression': gb_reg_mae\n",
    "    }\n",
    "    \n",
    "    sorted_cross_val_scores_actual_fold = sorted(cross_val_scores_actual_fold.items(), key=lambda x: x[1], reverse=False)\n",
    "\n",
    "    for i, (model, score) in enumerate(sorted_cross_val_scores_actual_fold, start=1):\n",
    "        rounded_score = round(score, 3)\n",
    "        print(f\"{i}. {model}: {rounded_score}\")\n",
    "\n",
    "    # Calculate mean scores and sort them\n",
    "    mean_scores = {model: np.mean(scores) for model, scores in all_fold_scores.items()}\n",
    "    sorted_mean_scores = sorted(mean_scores.items(), key=lambda x: x[1], reverse=False)\n",
    "\n",
    "    print()  # Absatz zwischen der ersten Print-Ausgabe und den Durchschnittswerten\n",
    "\n",
    "    # Print sorted mean scores with numbering\n",
    "    for i, (model, mean_score) in enumerate(sorted_mean_scores, start=1):\n",
    "        print(f\"{i}. Durchschnitt für {model} nach {fold_idx} Folds: {round(mean_score, 3)}\")\n",
    "        placement_history[model].append(i)\n",
    "        mean_scores_history[model].append(round(mean_score, 3))  # Hier wird der Durchschnittswert zu mean_scores_history hinzugefügt\n",
    "        \n",
    "    print()\n",
    "\n"
   ]
  },
  {
   "cell_type": "markdown",
   "id": "be047d59-3ce3-487f-bcf6-40f3b4bd1e73",
   "metadata": {},
   "source": [
    "### Ausgabe aller Elemente in all_fold_scores\n",
    "print(\"Alle Elemente in all_fold_scores:\")\n",
    "for model, scores in all_fold_scores.items():\n",
    "    print(f\"{model}: {scores}\")\n",
    "\n",
    "\n"
   ]
  },
  {
   "cell_type": "markdown",
   "id": "22f343bf-b66f-486e-9549-3b5e0e217278",
   "metadata": {},
   "source": [
    "### Ausgabe aller Elemente in placement_history\n",
    "print(\"\\nAlle Elemente in placement_history:\")\n",
    "for model, history in placement_history.items():\n",
    "    print(f\"{model}: {history}\")"
   ]
  },
  {
   "cell_type": "markdown",
   "id": "302401b4-6b9f-4309-befd-4020f83d6ec6",
   "metadata": {},
   "source": [
    "### Ausgabe aller Elemente in placement_history\n",
    "print(\"\\nAlle Elemente in mean_scores_history:\")\n",
    "for model, mean_scores in mean_scores_history.items():\n",
    "    print(f\"{model}: {mean_scores}\")\n",
    "\n",
    "#print(mean_scores_history['Random Forest Classifier'])"
   ]
  },
  {
   "cell_type": "code",
   "execution_count": null,
   "id": "683b8143-63a7-4a8d-9fae-fd463f626f66",
   "metadata": {},
   "outputs": [],
   "source": [
    "plt.figure(figsize=(10, 6))\n",
    "for model, placements in placement_history.items():\n",
    "    plt.plot(range(1, len(placements) + 1), placements, marker='o', label=model)\n",
    "\n",
    "plt.gca().invert_yaxis()  \n",
    "plt.xticks(range(1, kf.get_n_splits() + 1))\n",
    "plt.yticks(range(1, max(max(placements) for placements in placement_history.values()) + 1))  \n",
    "\n",
    "plt.xlabel('Fold')\n",
    "plt.ylabel('Platzierung')\n",
    "plt.title('Platzierung der Algorithmen nach jeder Faltung')\n",
    "\n",
    "\n",
    "plt.legend(loc='upper center', bbox_to_anchor=(0.5, -0.15), ncol=3)\n",
    "\n",
    "plt.grid(True)\n",
    "plt.tight_layout(rect=[0, 0, 1, 0.9])  \n",
    "plt.show()\n"
   ]
  },
  {
   "cell_type": "code",
   "execution_count": null,
   "id": "4195781b-3b43-4266-acc9-6f8ee189d397",
   "metadata": {},
   "outputs": [],
   "source": [
    "import scipy.stats as stats\n",
    "import numpy as np\n",
    "from scipy.stats import ttest_ind\n",
    "from scipy.stats import mannwhitneyu"
   ]
  },
  {
   "cell_type": "code",
   "execution_count": null,
   "id": "c71b33b9-44d7-4290-bcd9-469027d5c2d4",
   "metadata": {},
   "outputs": [],
   "source": [
    "mae_rf = mean_scores_history['Random Forest']\n",
    "mae_lr = mean_scores_history['Linear Regression']\n",
    "mae_tree = mean_scores_history['Decision Trees']\n",
    "mae_svr = mean_scores_history['Support Vector Regression']\n",
    "mae_boost = mean_scores_history['Gradient Boosting Regression']\n",
    "\n",
    "best_model_name = sorted_cross_val_scores[0][0]\n",
    "\n",
    "if best_model_name == 'Random Forest':\n",
    "    mae_best = mae_rf\n",
    "elif best_model_name == 'Linear Regression':\n",
    "    mae_best = mae_lr\n",
    "elif best_model_name == 'Decision Trees':\n",
    "    mae_best = mae_tree\n",
    "elif best_model_name == 'Support Vector Regression':\n",
    "    mae_best = mae_svr\n",
    "elif best_model_name == 'Gradient Boosting Regression':\n",
    "    mae_best = mae_boost\n",
    "\n",
    "\n",
    "def find_earliest_significant_fold_ttest(mae_best, mae):\n",
    "    for i in range(len(mae_best)):\n",
    "        t_stat, p_value = ttest_ind(mae_best[:i+1], mae[:i+1],alternative='less')  # [:i] alle Objekte bis i                                                                   \n",
    "        if p_value < 0.05: #standart Wert umsohöher der Wert desto mehr wird quasi geschätzt \n",
    "            return i+1, p_value\n",
    "    return None, None\n",
    "\n",
    "def find_earliest_significant_fold_manwhitneyu(mae_best, mae):\n",
    "    for i in range(len(mae_best)):\n",
    "        t_stat, p_value = mannwhitneyu(mae_best[:i+1], mae[:i+1],alternative='less')  # [:i] alle Objekte bis i\n",
    "                                                                                \n",
    "        if p_value < 0.05: #standart Wert umsohöher der Wert desto mehr wird quasi geschätzt \n",
    "            return i+1, p_value\n",
    "    return None, None\n",
    "\n",
    "\n",
    "algorithms = {\n",
    "            'Linear Regression': mae_lr,\n",
    "            'Decision Trees': mae_tree,\n",
    "            'Random Forest': mae_rf,\n",
    "            'Support Vector Regression': mae_svr,\n",
    "            'Gradient Boosting Regression': mae_boost\n",
    "    }\n",
    "\n",
    "print(\"T-Test:\")\n",
    "for algo_name, mae in algorithms.items():\n",
    "    if mae_best != mae:\n",
    "        fold, p_value = find_earliest_significant_fold_ttest(mae_best, mae)\n",
    "        if fold:\n",
    "            print(f\"{best_model_name} ist signifikant besser als {algo_name} ab Fold {fold} (p-Wert: {p_value:.4f})\")\n",
    "        else:\n",
    "            print(f\"{best_model_name} ist nicht signifikant besser als {algo_name} innerhalb von 10 Folds.\")\n",
    "\n",
    "print(\"Mann-Whitney-U-Test:\")\n",
    "for algo_name, mae in algorithms.items():\n",
    "    if mae_best != mae:\n",
    "        fold, p_value = find_earliest_significant_fold_manwhitneyu(mae_best, mae)\n",
    "        if fold:\n",
    "            print(f\"{best_model_name} ist signifikant besser als {algo_name} ab Fold {fold} (p-Wert: {p_value:.4f})\")\n",
    "        else:\n",
    "            print(f\"{best_model_name} ist nicht signifikant besser als {algo_name} innerhalb von 10 Folds.\")\n"
   ]
  },
  {
   "cell_type": "code",
   "execution_count": null,
   "id": "3074abeb-eac6-422f-b7b8-8067b8a9c1eb",
   "metadata": {},
   "outputs": [],
   "source": []
  }
 ],
 "metadata": {
  "kernelspec": {
   "display_name": "Python 3 (ipykernel)",
   "language": "python",
   "name": "python3"
  },
  "language_info": {
   "codemirror_mode": {
    "name": "ipython",
    "version": 3
   },
   "file_extension": ".py",
   "mimetype": "text/x-python",
   "name": "python",
   "nbconvert_exporter": "python",
   "pygments_lexer": "ipython3",
   "version": "3.12.2"
  }
 },
 "nbformat": 4,
 "nbformat_minor": 5
}
