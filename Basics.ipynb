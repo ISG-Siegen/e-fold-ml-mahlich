{
 "cells": [
  {
   "cell_type": "markdown",
   "id": "c625f33a-8cbf-4707-a99d-ad9d614d5276",
   "metadata": {},
   "source": [
    "Start mit einem einfachen Train_test_split"
   ]
  },
  {
   "cell_type": "code",
   "execution_count": 1,
   "id": "aaf85a55-f5b1-4e01-9237-7baeea5ca735",
   "metadata": {},
   "outputs": [],
   "source": [
    "from sklearn.datasets import load_breast_cancer\n",
    "from sklearn.model_selection import train_test_split\n",
    "from sklearn.neighbors import KNeighborsClassifier\n",
    "from sklearn import metrics"
   ]
  },
  {
   "cell_type": "code",
   "execution_count": 2,
   "id": "bd7caf3c-1d16-4a3b-ac25-c8a34ca8de1f",
   "metadata": {},
   "outputs": [],
   "source": [
    "cancer = load_breast_cancer()\n",
    "\n",
    "\n",
    "#print(cancer.target[[10, 50, 85]]) #Output an Stelle 10.. ob positiv oder negativ\n",
    "X = cancer.data\n",
    "y = cancer.target\n"
   ]
  },
  {
   "cell_type": "code",
   "execution_count": 3,
   "id": "faf06b25-c48e-48dc-baba-7e99d67afe6e",
   "metadata": {},
   "outputs": [
    {
     "name": "stdout",
     "output_type": "stream",
     "text": [
      "0.9020979020979021\n"
     ]
    }
   ],
   "source": [
    "X_train, X_test, y_train, y_test = train_test_split(X, y, random_state=15) #Problem: Wir haben immer random daten die mal test\n",
    "#bzw mal train sind, wenn ich jetzt random_state ändere habe ich ein anderes Ergebnis\n",
    "\n",
    "knn = KNeighborsClassifier(n_neighbors=5)\n",
    "knn.fit(X_train, y_train)\n",
    "y_pred = knn.predict(X_test)\n",
    "\n",
    "train_test_score = metrics.accuracy_score(y_test, y_pred)\n",
    "print(train_test_score)   #accuracy wir vergleichen die tatsächlichen y_test mit den predicteten y_pred\n",
    "\n",
    "# Train_test_split ist hohe Varianzschätzung (high variance estimate)"
   ]
  },
  {
   "cell_type": "markdown",
   "id": "c49adcf0-8e1e-4404-be1d-4c79cb583940",
   "metadata": {},
   "source": [
    "Und genau das kommt  cross-validation ins Spiel. (Es werden quasi unterschiedliche train-test-splits genommen und den AVG der Performance berechnet)"
   ]
  },
  {
   "cell_type": "markdown",
   "id": "478be6be-3d0a-4812-8400-ffbbfe3f76e4",
   "metadata": {},
   "source": [
    "## Steps for K-fold cross-validation"
   ]
  },
  {
   "cell_type": "markdown",
   "id": "c6eeeee1-c2f3-43f6-8299-8b8a199dea1a",
   "metadata": {},
   "source": [
    "1. Split the dataset into K **equal** partitions (or \"folds\").\n",
    "2. Use fold 1 as the **testing set** and the union of the other folds as the **training set**.\n",
    "3. Calculate **testing accuracy**.\n",
    "4. Repeat steps 2 and 3 K times, using a **different fold** as the testing set each time.\n",
    "5. Use the **average testing accuracy** as the estimate of out-of-sample accuracy."
   ]
  },
  {
   "cell_type": "markdown",
   "id": "62b10c73-6d3f-409d-bec5-0d9da58ce255",
   "metadata": {},
   "source": [
    "einfache Darstellung wie k-fold funktioniert. Wir haben 25 \"Beobachtungen\" und splitten diese in 5 Teile "
   ]
  },
  {
   "cell_type": "code",
   "execution_count": 4,
   "id": "b06761b8-f9ea-4250-ba19-77531960e039",
   "metadata": {},
   "outputs": [
    {
     "name": "stdout",
     "output_type": "stream",
     "text": [
      "Iteration                   Training set observations                   Testing set observations\n",
      "    1     [ 5  6  7  8  9 10 11 12 13 14 15 16 17 18 19 20 21 22 23 24]        [0 1 2 3 4]       \n",
      "    2     [ 0  1  2  3  4 10 11 12 13 14 15 16 17 18 19 20 21 22 23 24]        [5 6 7 8 9]       \n",
      "    3     [ 0  1  2  3  4  5  6  7  8  9 15 16 17 18 19 20 21 22 23 24]     [10 11 12 13 14]     \n",
      "    4     [ 0  1  2  3  4  5  6  7  8  9 10 11 12 13 14 20 21 22 23 24]     [15 16 17 18 19]     \n",
      "    5     [ 0  1  2  3  4  5  6  7  8  9 10 11 12 13 14 15 16 17 18 19]     [20 21 22 23 24]     \n"
     ]
    }
   ],
   "source": [
    "from sklearn.model_selection import KFold\n",
    "kf = KFold(n_splits=5, shuffle=False).split(range(25))\n",
    "\n",
    "print('{} {:^61} {}'.format('Iteration', 'Training set observations', 'Testing set observations'))\n",
    "for iteration, data in enumerate(kf, start=1):\n",
    "    print('{:^9} {} {:^25}'.format(iteration, data[0], str(data[1])))"
   ]
  },
  {
   "cell_type": "markdown",
   "id": "0926f0ff-cfb0-41c8-bb8f-138fad5b7139",
   "metadata": {},
   "source": [
    "## Comparing cross-validation to train/test split"
   ]
  },
  {
   "cell_type": "markdown",
   "id": "8bd0404d-6048-48ba-830c-6dbf8897bc6b",
   "metadata": {},
   "source": [
    "Advantages of **cross-validation:**\n",
    "\n",
    "- More accurate estimate of out-of-sample accuracy\n",
    "- More \"efficient\" use of data (every observation is used for both training and testing)\n",
    "\n",
    "Advantages of **train/test split:**\n",
    "\n",
    "- Runs K times faster than K-fold cross-validation\n",
    "- Simpler to examine the detailed results of the testing process"
   ]
  },
  {
   "cell_type": "markdown",
   "id": "b557aaf5-f5bd-421f-87e1-a80a7a1d80a9",
   "metadata": {},
   "source": [
    "Comparing in an example from above and using 10 folds "
   ]
  },
  {
   "cell_type": "code",
   "execution_count": 5,
   "id": "c8c6ac2a-5eda-4250-b71f-ce2c0956fcc3",
   "metadata": {},
   "outputs": [],
   "source": [
    "from sklearn.model_selection import cross_val_score"
   ]
  },
  {
   "cell_type": "code",
   "execution_count": 6,
   "id": "e12916b3-4a0b-43e4-b856-3ea3ba119549",
   "metadata": {},
   "outputs": [
    {
     "name": "stdout",
     "output_type": "stream",
     "text": [
      "0.9297619047619046\n"
     ]
    }
   ],
   "source": [
    "knn2 = KNeighborsClassifier(n_neighbors=5)\n",
    "\n",
    "k=10\n",
    "cross_val_scores = cross_val_score(knn2, X, y, cv=k, scoring='accuracy')\n",
    "\n",
    "kfoldscore = cross_val_scores.mean()\n",
    "print(kfoldscore)"
   ]
  },
  {
   "cell_type": "markdown",
   "id": "a27cddfc-d4b5-4691-be6f-714bdb73dab4",
   "metadata": {},
   "source": [
    "### Comparison"
   ]
  },
  {
   "cell_type": "code",
   "execution_count": 7,
   "id": "0cbc4823-85ab-427e-94a5-d85995b5cc40",
   "metadata": {},
   "outputs": [
    {
     "name": "stdout",
     "output_type": "stream",
     "text": [
      "Train-Test Split Accuracy: 0.90\n"
     ]
    }
   ],
   "source": [
    "print(f\"Train-Test Split Accuracy: {train_test_score:.2f}\")"
   ]
  },
  {
   "cell_type": "code",
   "execution_count": 8,
   "id": "9fac62fe-b41e-4f5a-9f8e-be3e1c75811d",
   "metadata": {},
   "outputs": [
    {
     "name": "stdout",
     "output_type": "stream",
     "text": [
      "10-Fold Cross-Validation Mean Accuracy: 0.93\n"
     ]
    }
   ],
   "source": [
    "print(f\"{k}-Fold Cross-Validation Mean Accuracy: {kfoldscore:.2f}\")"
   ]
  },
  {
   "cell_type": "code",
   "execution_count": null,
   "id": "3a28600e-fb48-4154-9835-73b0fe5d68f8",
   "metadata": {},
   "outputs": [],
   "source": []
  }
 ],
 "metadata": {
  "kernelspec": {
   "display_name": "Python 3 (ipykernel)",
   "language": "python",
   "name": "python3"
  },
  "language_info": {
   "codemirror_mode": {
    "name": "ipython",
    "version": 3
   },
   "file_extension": ".py",
   "mimetype": "text/x-python",
   "name": "python",
   "nbconvert_exporter": "python",
   "pygments_lexer": "ipython3",
   "version": "3.12.2"
  }
 },
 "nbformat": 4,
 "nbformat_minor": 5
}
